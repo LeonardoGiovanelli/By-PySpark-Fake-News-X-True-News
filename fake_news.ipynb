{
 "cells": [
  {
   "cell_type": "markdown",
   "metadata": {},
   "source": [
    "# Análise de Fake News\n",
    "Pergunta de negócio:\n",
    "* Existem padrões notícias brasileiras que nos permitem suspeitar de fake news?\n",
    "\n",
    "Na base de dados __FakeBR Corpus__, extraída de  https://sites.google.com/icmc.usp.br/opinando/, existem duas pastas que separam conjuntos distintos de notícias:\n",
    "* `fake`: com notícias sabidamente falsas;\n",
    "* `true`: com notícias sabidamente verdadeiras.\n",
    "\n",
    "* As  notícias são de janeiro de 2016 a janeiro de 2018.\n",
    "* São 3,6 mil nótiicas falsas e 3,6 verdadeiras."
   ]
  },
  {
   "cell_type": "markdown",
   "metadata": {},
   "source": [
    "# Bibliotecas\n"
   ]
  },
  {
   "cell_type": "code",
   "execution_count": 20,
   "metadata": {
    "ExecuteTime": {
     "end_time": "2020-06-03T23:09:25.921825Z",
     "start_time": "2020-06-03T23:09:25.918451Z"
    }
   },
   "outputs": [],
   "source": [
    "import nltk\n",
    "import numpy as np\n",
    "import pandas as pd\n",
    "import pyspark.sql.functions as F\n",
    "import matplotlib.pyplot as plt"
   ]
  },
  {
   "cell_type": "markdown",
   "metadata": {},
   "source": [
    "# Paths"
   ]
  },
  {
   "cell_type": "code",
   "execution_count": 21,
   "metadata": {
    "ExecuteTime": {
     "end_time": "2020-06-03T23:09:27.164212Z",
     "start_time": "2020-06-03T23:09:27.161205Z"
    }
   },
   "outputs": [],
   "source": [
    "path=\"../data/fakenews/full_texts\"\n",
    "pT=path+\"/true/*.txt\"\n",
    "pF=path+\"/fake/*.txt\""
   ]
  },
  {
   "cell_type": "markdown",
   "metadata": {},
   "source": [
    "# Spark"
   ]
  },
  {
   "cell_type": "code",
   "execution_count": 22,
   "metadata": {
    "ExecuteTime": {
     "end_time": "2020-06-03T23:09:28.520085Z",
     "start_time": "2020-06-03T23:09:28.517284Z"
    }
   },
   "outputs": [],
   "source": [
    "from pyspark.sql import SparkSession"
   ]
  },
  {
   "cell_type": "code",
   "execution_count": 23,
   "metadata": {
    "ExecuteTime": {
     "end_time": "2020-06-03T23:09:30.142596Z",
     "start_time": "2020-06-03T23:09:30.137943Z"
    }
   },
   "outputs": [],
   "source": [
    "spark = SparkSession.builder \\\n",
    "        .master('local[8]') \\\n",
    "        .appName('Exercicio True/Fale') \\\n",
    "        .getOrCreate()"
   ]
  },
  {
   "cell_type": "code",
   "execution_count": 24,
   "metadata": {
    "ExecuteTime": {
     "end_time": "2020-06-03T23:09:32.166378Z",
     "start_time": "2020-06-03T23:09:32.163604Z"
    }
   },
   "outputs": [],
   "source": [
    "sc = spark.sparkContext"
   ]
  },
  {
   "cell_type": "code",
   "execution_count": 25,
   "metadata": {
    "ExecuteTime": {
     "end_time": "2020-06-03T23:09:36.680862Z",
     "start_time": "2020-06-03T23:09:36.609661Z"
    }
   },
   "outputs": [],
   "source": [
    "fake = sc.wholeTextFiles(pF)\n",
    "true=sc.wholeTextFiles(pT)"
   ]
  },
  {
   "cell_type": "code",
   "execution_count": 26,
   "metadata": {
    "ExecuteTime": {
     "end_time": "2020-06-03T23:09:38.030604Z",
     "start_time": "2020-06-03T23:09:38.026582Z"
    }
   },
   "outputs": [],
   "source": [
    "fake2 = fake.map(lambda x: x[1].lower())\n",
    "true2 = true.map(lambda x: x[1].lower())"
   ]
  },
  {
   "cell_type": "code",
   "execution_count": 27,
   "metadata": {
    "ExecuteTime": {
     "end_time": "2020-06-03T23:09:39.382768Z",
     "start_time": "2020-06-03T23:09:39.376749Z"
    }
   },
   "outputs": [],
   "source": [
    "def punct0(x):\n",
    "    \n",
    "    punctuations = '''!-()[]{};:'\"\\,<>./\"?!'''\n",
    "    no_punct = \"\"\n",
    "    for char in x:\n",
    "        if char not in punctuations:\n",
    "            no_punct = no_punct + char\n",
    "    no_punct=no_punct.split()\n",
    "    return(no_punct)\n",
    "\n",
    "re=[\"segundafeira\",\"terçafeira\",\"quartafeira\",\"quintafeira\",\"sextafeira\",\"sabádo\",\"domingo\",\"sete\",\"dois\",\"após\"]\n",
    "remo_port = nltk.corpus.stopwords.words('portuguese')+re\n",
    "\n",
    "\n",
    "def remo_words(data,remo):\n",
    "    a=[x for x in data if x not in remo]\n",
    "    return(a)\n"
   ]
  },
  {
   "cell_type": "code",
   "execution_count": 28,
   "metadata": {
    "ExecuteTime": {
     "end_time": "2020-06-03T23:09:41.383911Z",
     "start_time": "2020-06-03T23:09:41.380556Z"
    }
   },
   "outputs": [],
   "source": [
    "fake3 = fake2.map(lambda x: punct0(x))\n",
    "true3 = true2.map(lambda x: punct0(x))"
   ]
  },
  {
   "cell_type": "code",
   "execution_count": 29,
   "metadata": {
    "ExecuteTime": {
     "end_time": "2020-06-03T23:09:42.789785Z",
     "start_time": "2020-06-03T23:09:42.785287Z"
    }
   },
   "outputs": [],
   "source": [
    "fake4 = fake3.map(lambda x: remo_words(x,remo_port))\n",
    "true4 = true3.map(lambda x: remo_words(x,remo_port))"
   ]
  },
  {
   "cell_type": "code",
   "execution_count": 30,
   "metadata": {
    "ExecuteTime": {
     "end_time": "2020-06-03T23:09:45.221592Z",
     "start_time": "2020-06-03T23:09:45.217196Z"
    }
   },
   "outputs": [],
   "source": [
    "def sum_words(x):\n",
    "    x=x.split()\n",
    "    w=np.unique(x)\n",
    "    w=list(map(lambda i: str(i),w))\n",
    "    a=list(map(lambda i: x.count(i),w))\n",
    "    r=list(zip(w,a))\n",
    "    return(r)\n"
   ]
  },
  {
   "cell_type": "code",
   "execution_count": 31,
   "metadata": {
    "ExecuteTime": {
     "end_time": "2020-06-03T23:09:46.745652Z",
     "start_time": "2020-06-03T23:09:46.739351Z"
    }
   },
   "outputs": [],
   "source": [
    "fake_words=fake4.map(lambda x: sum_words(x[0]))\n",
    "fake_words=fake_words.map(lambda x: x[0])\n",
    "true_words=true4.map(lambda x: sum_words(x[0]))\n",
    "true_words=true_words.map(lambda x: x[0])"
   ]
  },
  {
   "cell_type": "code",
   "execution_count": 32,
   "metadata": {
    "ExecuteTime": {
     "end_time": "2020-06-03T23:09:48.359632Z",
     "start_time": "2020-06-03T23:09:47.899268Z"
    }
   },
   "outputs": [],
   "source": [
    "fake5 = fake_words.groupByKey()\n",
    "true5=true_words.groupByKey()"
   ]
  },
  {
   "cell_type": "code",
   "execution_count": 33,
   "metadata": {
    "ExecuteTime": {
     "end_time": "2020-06-03T23:09:49.462387Z",
     "start_time": "2020-06-03T23:09:49.459036Z"
    }
   },
   "outputs": [],
   "source": [
    "fake6 = fake5.mapValues(lambda x: sum(x))\n",
    "true6 = true5.mapValues(lambda x: sum(x))"
   ]
  },
  {
   "cell_type": "code",
   "execution_count": 34,
   "metadata": {
    "ExecuteTime": {
     "end_time": "2020-06-03T23:10:33.336971Z",
     "start_time": "2020-06-03T23:09:50.794907Z"
    }
   },
   "outputs": [],
   "source": [
    "fake7=fake6.takeOrdered(100, key = lambda x: -x[1])\n",
    "true7=true6.takeOrdered(100, key = lambda x: -x[1])"
   ]
  },
  {
   "cell_type": "code",
   "execution_count": 41,
   "metadata": {
    "ExecuteTime": {
     "end_time": "2020-06-03T23:11:35.726883Z",
     "start_time": "2020-06-03T23:11:35.634332Z"
    }
   },
   "outputs": [],
   "source": [
    "dfF=spark.createDataFrame(fake7,[\"Palavra_F\",\"Frequência_F\"]).sort('Frequência_F', ascending=False)\n",
    "dfT=spark.createDataFrame(true6,[\"Palavra_T\",\"Frequência_T\"]).sort('Frequência_T', ascending=False)"
   ]
  },
  {
   "cell_type": "code",
   "execution_count": 57,
   "metadata": {
    "ExecuteTime": {
     "end_time": "2020-06-03T23:16:04.852821Z",
     "start_time": "2020-06-03T23:16:04.774573Z"
    }
   },
   "outputs": [],
   "source": [
    "dfC_T= dfT.join(dfF, dfF.Palavra_F == dfT.Palavra_T,how='full').sort('Frequência_T', ascending=False)\n",
    "\n",
    "dfC_T=dfC_T.na.fill(0)\n",
    "dfC_T=dfC_T.withColumn(\"Diferença\", dfC_T.Frequência_T-dfC_T.Frequência_F)\n",
    "dfC_T=dfC_T.withColumn(\"Frequência_T(%)\",100*(F.col(\"Frequência_T\")/ (F.col(\"Frequência_F\")+F.col(\"Frequência_T\"))))\n",
    "dfC_T=dfC_T.drop(\"Palavra_F\")"
   ]
  },
  {
   "cell_type": "code",
   "execution_count": 58,
   "metadata": {
    "ExecuteTime": {
     "end_time": "2020-06-03T23:16:06.232691Z",
     "start_time": "2020-06-03T23:16:06.185382Z"
    },
    "scrolled": true
   },
   "outputs": [],
   "source": [
    "dfC_F= dfF.join(dfT, dfF.Palavra_F == dfT.Palavra_T,how='full').sort('Frequência_F', ascending=False)\n",
    "\n",
    "dfC_F=dfC_F.na.fill(0)\n",
    "dfC_F=dfC_F.withColumn(\"Diferença\", -dfC_F.Frequência_T+dfC_F.Frequência_F)\n",
    "dfC_F=dfC_F.withColumn(\"Frequência_F (%)\",100*(F.col(\"Frequência_F\")/ (F.col(\"Frequência_T\")+F.col(\"Frequência_F\"))))\n",
    "dfC_F=dfC_F.drop(\"Palavra_T\")\n"
   ]
  },
  {
   "cell_type": "markdown",
   "metadata": {},
   "source": [
    "# Gráficos"
   ]
  },
  {
   "cell_type": "markdown",
   "metadata": {},
   "source": [
    "## Fake News"
   ]
  },
  {
   "cell_type": "code",
   "execution_count": 89,
   "metadata": {
    "ExecuteTime": {
     "end_time": "2020-06-03T23:34:37.425820Z",
     "start_time": "2020-06-03T23:34:37.008203Z"
    }
   },
   "outputs": [
    {
     "name": "stdout",
     "output_type": "stream",
     "text": [
      "       Palavra_F  Frequência_F  Frequência_T  Diferença  Frequência_F (%)\n",
      "0           lula           100            40         60              71.0\n",
      "1          dilma            72            18         54              80.0\n",
      "2          temer            51            67        -16              43.0\n",
      "3       deputado            47            10         37              82.0\n",
      "4        urgente            45             0         45             100.0\n",
      "5          vídeo            41            10         31              80.0\n",
      "6     jornalista            40             3         37              93.0\n",
      "7         coreia            37            41         -4              47.0\n",
      "8       ministro            36            23         13              61.0\n",
      "9        governo            32            28          4              53.0\n",
      "10    presidente            30            33         -3              48.0\n",
      "11     bolsonaro            27             7         20              79.0\n",
      "12       senador            21             5         16              81.0\n",
      "13         renan            21             8         13              72.0\n",
      "14         cunha            20             4         16              83.0\n",
      "15       general            19             1         18              95.0\n",
      "16        rússia            19             2         17              90.0\n",
      "17           kim            18             1         17              95.0\n",
      "18         trump            17            14          3              55.0\n",
      "19            pt            17             7         10              71.0\n",
      "20           stf            17            15          2              53.0\n",
      "21            pf            17            30        -13              36.0\n",
      "22           eua            17            15          2              53.0\n",
      "23      advogado            16            12          4              57.0\n",
      "24  expresidente            15            17         -2              47.0\n",
      "25          moro            15            25        -10              38.0\n",
      "26        brasil            14            19         -5              42.0\n",
      "27         globo            13             1         12              93.0\n",
      "28         homem            13             9          4              59.0\n",
      "29       delação            13            12          1              52.0\n",
      "30          ciro            13             3         10              81.0\n",
      "31       polícia            12            26        -14              32.0\n",
      "32         atriz            12             3          9              80.0\n",
      "33          juiz            12            29        -17              29.0\n",
      "34           pgr            12             5          7              71.0\n",
      "35        sérgio            12             5          7              71.0\n",
      "36          ator            12             4          8              75.0\n",
      "37         áudio            12             1         11              92.0\n",
      "38      repórter            12             1         11              92.0\n",
      "39          nova            11            10          1              52.0\n"
     ]
    },
    {
     "data": {
      "image/png": "[encoded data removed]",
      "text/plain": [
       "<Figure size 720x720 with 1 Axes>"
      ]
     },
     "metadata": {
      "needs_background": "light"
     },
     "output_type": "display_data"
    }
   ],
   "source": [
    "F_pd = dfC_F.toPandas()\n",
    "F_pd['Frequência_F (%)']=round(F_pd['Frequência_F (%)'],0)\n",
    "F_pd=F_pd[0:40]\n",
    "print(F_pd)\n",
    "\n",
    "fig, ax = plt.subplots(figsize=(10,10))\n",
    "\n",
    "width=.8\n",
    "\n",
    "x=F_pd['Palavra_F'][0:20]\n",
    "yT=F_pd['Frequência_T'][0:20]\n",
    "yF=F_pd['Frequência_F'][0:20]\n",
    "yS=yT+yF\n",
    "x=list(map(lambda n,y: n+\" (\" + str(y) + \")\" ,x,yS ))\n",
    "yT=round(100*yT/yS,2)\n",
    "yF=round(100*yF/yS,2)\n",
    "\n",
    "df=[x,yF,yT]\n",
    "df=pd.DataFrame(df).T\n",
    "df.columns=[\"Palavra_F\",\"F(%)\",\"T(%)\"]\n",
    "df=df.sort_values(by=[\"F(%)\"],ascending=False)\n",
    "\n",
    "\n",
    "x=df[\"Palavra_F\"]\n",
    "yT=df[\"T(%)\"]\n",
    "yF=df[\"F(%)\"]\n",
    "ax.barh(x, yF, width, label='Fake',color=\"red\")\n",
    "ax.barh(x, yT, width,left=yF ,label='True')\n",
    "\n",
    "ax.set_ylabel('Palavra (Total)')\n",
    "ax.set_xlabel('Frequência acumulada em fake news(%)')\n",
    "ax.set_title('fake x true news (20 palavras com maior frequência nas fake news)')\n",
    "ax.legend()\n",
    "\n",
    "plt.show()"
   ]
  },
  {
   "cell_type": "markdown",
   "metadata": {},
   "source": [
    "## True News"
   ]
  },
  {
   "cell_type": "code",
   "execution_count": 90,
   "metadata": {
    "ExecuteTime": {
     "end_time": "2020-06-03T23:34:41.444596Z",
     "start_time": "2020-06-03T23:34:41.011588Z"
    }
   },
   "outputs": [
    {
     "name": "stdout",
     "output_type": "stream",
     "text": [
      "        Palavra_T  Frequência_T  Frequência_F  Diferença  Frequência_T(%)\n",
      "0           temer            67            51         16             57.0\n",
      "1          coreia            41            37          4             53.0\n",
      "2            lula            40           100        -60             29.0\n",
      "3            veja            39             9         30             81.0\n",
      "4   retrospectiva            35             0         35            100.0\n",
      "5      presidente            33            30          3             52.0\n",
      "6              pf            30            17         13             64.0\n",
      "7            juiz            29            12         17             71.0\n",
      "8         governo            28            32         -4             47.0\n",
      "9         polícia            26            12         14             68.0\n",
      "10         defesa            26             9         17             74.0\n",
      "11           moro            25            15         10             62.0\n",
      "12       ministro            23            36        -13             39.0\n",
      "13         brasil            19            14          5             58.0\n",
      "14          dilma            18            72        -54             20.0\n",
      "15          saiba            18             8         10             69.0\n",
      "16   expresidente            17            15          2             53.0\n",
      "17        justiça            17             9          8             65.0\n",
      "18            mpf            17             0         17            100.0\n",
      "19          janot            17             0         17            100.0\n",
      "20            stf            15            17         -2             47.0\n",
      "21       tribunal            15             0         15            100.0\n",
      "22           trf4            15             0         15            100.0\n",
      "23         gilmar            15            10          5             60.0\n",
      "24     ministério            15             0         15            100.0\n",
      "25            eua            15            17         -2             47.0\n",
      "26          trump            14            17         -3             45.0\n",
      "27         câmara            13             0         13            100.0\n",
      "28       operação            13             0         13            100.0\n",
      "29    forçatarefa            13             0         13            100.0\n",
      "30           lava            13             0         13            100.0\n",
      "31       advogado            12            16         -4             43.0\n",
      "32        relator            12             0         12            100.0\n",
      "33        marcelo            12             6          6             67.0\n",
      "34        delação            12            13         -1             48.0\n",
      "35         fachin            12             0         12            100.0\n",
      "36            tse            11             0         11            100.0\n",
      "37          doria            11             0         11            100.0\n",
      "38        decisão            11             0         11            100.0\n",
      "39           nova            10            11         -1             48.0\n"
     ]
    },
    {
     "data": {
      "image/png": "[encoded data removed]",
      "text/plain": [
       "<Figure size 720x720 with 1 Axes>"
      ]
     },
     "metadata": {
      "needs_background": "light"
     },
     "output_type": "display_data"
    }
   ],
   "source": [
    "T_pd = dfC_T.toPandas()\n",
    "T_pd['Frequência_T(%)']=round(T_pd['Frequência_T(%)'],0)\n",
    "T_pd=T_pd[0:40]\n",
    "print(T_pd)\n",
    "\n",
    "#######\n",
    "fig, ax = plt.subplots(figsize=(10,10))\n",
    "\n",
    "width=.8\n",
    "\n",
    "x=T_pd['Palavra_T'][0:20]\n",
    "yT=T_pd['Frequência_T'][0:20]\n",
    "yF=T_pd['Frequência_F'][0:20]\n",
    "yS=yT+yF\n",
    "x=list(map(lambda n,y: n+\" (\" + str(y) + \")\" ,x,yS ))\n",
    "yT=round(100*yT/yS,2)\n",
    "yF=round(100*yF/yS,2)\n",
    "\n",
    "df=[x,yT,yF]\n",
    "df=pd.DataFrame(df).T\n",
    "df.columns=[\"Palavra_T\",\"T(%)\",\"F(%)\"]\n",
    "df=df.sort_values(by=[\"T(%)\"],ascending=True)\n",
    "\n",
    "\n",
    "x=df[\"Palavra_T\"]\n",
    "yT=df[\"T(%)\"]\n",
    "yF=df[\"F(%)\"]\n",
    "ax.barh(x, yT, width, label='True',color=\"blue\")\n",
    "ax.barh(x, yF, width,left=yT ,label='Fake',color=\"red\")\n",
    "\n",
    "ax.set_ylabel('Palavra (Total)')\n",
    "ax.set_xlabel('Frequência acumulada em true news(%)')\n",
    "ax.set_title('fake x true news (20 palavras com maior frequência nas true news)')\n",
    "ax.legend()\n",
    "\n",
    "plt.show()"
   ]
  }
 ],
 "metadata": {
  "kernelspec": {
   "display_name": "Python 3",
   "language": "python",
   "name": "python3"
  },
  "language_info": {
   "codemirror_mode": {
    "name": "ipython",
    "version": 3
   },
   "file_extension": ".py",
   "mimetype": "text/x-python",
   "name": "python",
   "nbconvert_exporter": "python",
   "pygments_lexer": "ipython3",
   "version": "3.7.6"
  },
  "toc": {
   "base_numbering": 1,
   "nav_menu": {},
   "number_sections": true,
   "sideBar": true,
   "skip_h1_title": false,
   "title_cell": "Table of Contents",
   "title_sidebar": "Contents",
   "toc_cell": false,
   "toc_position": {},
   "toc_section_display": true,
   "toc_window_display": false
  }
 },
 "nbformat": 4,
 "nbformat_minor": 4
}
